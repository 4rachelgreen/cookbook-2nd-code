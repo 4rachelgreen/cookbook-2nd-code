{
 "cells": [
  {
   "cell_type": "markdown",
   "metadata": {},
   "source": [
    "# Analyzing the frequency components of a signal with a Fast Fourier Transform"
   ]
  },
  {
   "cell_type": "code",
   "execution_count": 1,
   "metadata": {},
   "outputs": [],
   "source": [
    "import datetime\n",
    "import numpy as np\n",
    "import scipy as sp\n",
    "import scipy.fftpack\n",
    "import pandas as pd\n",
    "import matplotlib.pyplot as plt\n",
    "%matplotlib inline"
   ]
  },
  {
   "cell_type": "code",
   "execution_count": 2,
   "metadata": {},
   "outputs": [],
   "source": [
    "df0 = pd.read_csv('https://github.com/ipython-books/'\n",
    "                  'cookbook-2nd-data/blob/master/'\n",
    "                  'weather.csv?raw=true',\n",
    "                  na_values=(-9999),\n",
    "                  parse_dates=['DATE'])"
   ]
  },
  {
   "cell_type": "code",
   "execution_count": 3,
   "metadata": {},
   "outputs": [],
   "source": [
    "df = df0[df0['DATE'] >= '19940101']"
   ]
  },
  {
   "cell_type": "code",
   "execution_count": 4,
   "metadata": {},
   "outputs": [],
   "source": [
    "df.head()"
   ]
  },
  {
   "cell_type": "code",
   "execution_count": 5,
   "metadata": {},
   "outputs": [],
   "source": [
    "df_avg = df.dropna().groupby('DATE').mean()"
   ]
  },
  {
   "cell_type": "code",
   "execution_count": 6,
   "metadata": {},
   "outputs": [],
   "source": [
    "df_avg.head()"
   ]
  },
  {
   "cell_type": "code",
   "execution_count": 7,
   "metadata": {},
   "outputs": [],
   "source": [
    "date = df_avg.index.to_datetime()\n",
    "temp = (df_avg['TMAX'] + df_avg['TMIN']) / 20.\n",
    "N = len(temp)"
   ]
  },
  {
   "cell_type": "code",
   "execution_count": 8,
   "metadata": {},
   "outputs": [],
   "source": [
    "fig, ax = plt.subplots(1, 1, figsize=(6, 3))\n",
    "temp.plot(ax=ax, lw=.5)\n",
    "ax.set_ylim(-10, 40)\n",
    "ax.set_xlabel('Date')\n",
    "ax.set_ylabel('Mean temperature')"
   ]
  },
  {
   "cell_type": "code",
   "execution_count": 9,
   "metadata": {},
   "outputs": [],
   "source": [
    "temp_fft = sp.fftpack.fft(temp)"
   ]
  },
  {
   "cell_type": "code",
   "execution_count": 10,
   "metadata": {},
   "outputs": [],
   "source": [
    "temp_psd = np.abs(temp_fft) ** 2"
   ]
  },
  {
   "cell_type": "code",
   "execution_count": 11,
   "metadata": {},
   "outputs": [],
   "source": [
    "fftfreq = sp.fftpack.fftfreq(len(temp_psd), 1. / 365)"
   ]
  },
  {
   "cell_type": "code",
   "execution_count": 12,
   "metadata": {},
   "outputs": [],
   "source": [
    "i = fftfreq > 0"
   ]
  },
  {
   "cell_type": "code",
   "execution_count": 13,
   "metadata": {},
   "outputs": [],
   "source": [
    "fig, ax = plt.subplots(1, 1, figsize=(8, 4))\n",
    "ax.plot(fftfreq[i], 10 * np.log10(temp_psd[i]))\n",
    "ax.set_xlim(0, 5)\n",
    "ax.set_xlabel('Frequency (1/year)')\n",
    "ax.set_ylabel('PSD (dB)')"
   ]
  },
  {
   "cell_type": "code",
   "execution_count": 14,
   "metadata": {},
   "outputs": [],
   "source": [
    "temp_fft_bis = temp_fft.copy()\n",
    "temp_fft_bis[np.abs(fftfreq) > 1.1] = 0"
   ]
  },
  {
   "cell_type": "code",
   "execution_count": 15,
   "metadata": {},
   "outputs": [],
   "source": [
    "temp_slow = np.real(sp.fftpack.ifft(temp_fft_bis))"
   ]
  },
  {
   "cell_type": "code",
   "execution_count": 16,
   "metadata": {},
   "outputs": [],
   "source": [
    "fig, ax = plt.subplots(1, 1, figsize=(6, 3))\n",
    "temp.plot(ax=ax, lw=.5)\n",
    "ax.plot_date(date, temp_slow, '-')\n",
    "ax.set_xlim(datetime.date(1994, 1, 1),\n",
    "            datetime.date(2000, 1, 1))\n",
    "ax.set_ylim(-10, 40)\n",
    "ax.set_xlabel('Date')\n",
    "ax.set_ylabel('Mean temperature')"
   ]
  }
 ],
 "metadata": {},
 "nbformat": 4,
 "nbformat_minor": 2
}
