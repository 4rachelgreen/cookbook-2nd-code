{
 "cells": [
  {
   "cell_type": "markdown",
   "metadata": {},
   "source": [
    "# Applying a linear filter to a digital signal"
   ]
  },
  {
   "cell_type": "code",
   "execution_count": 1,
   "metadata": {},
   "outputs": [],
   "source": [
    "import numpy as np\n",
    "import scipy as sp\n",
    "import scipy.signal as sg\n",
    "import pandas as pd\n",
    "import matplotlib.pyplot as plt\n",
    "%matplotlib inline"
   ]
  },
  {
   "cell_type": "code",
   "execution_count": 2,
   "metadata": {},
   "outputs": [],
   "source": [
    "nasdaq_df = pd.read_csv(\n",
    "    'https://github.com/ipython-books/'\n",
    "    'cookbook-2nd-data/blob/master/'\n",
    "    'nasdaq.csv?raw=true', \n",
    "    index_col='Date',\n",
    "    parse_dates=['Date'])"
   ]
  },
  {
   "cell_type": "code",
   "execution_count": 3,
   "metadata": {},
   "outputs": [],
   "source": [
    "nasdaq_df.head()"
   ]
  },
  {
   "cell_type": "code",
   "execution_count": 4,
   "metadata": {},
   "outputs": [],
   "source": [
    "date = nasdaq_df.index\n",
    "nasdaq = nasdaq_df['Close']"
   ]
  },
  {
   "cell_type": "code",
   "execution_count": 5,
   "metadata": {},
   "outputs": [],
   "source": [
    "fig, ax = plt.subplots(1, 1, figsize=(6, 4))\n",
    "nasdaq.plot(ax=ax, lw=1)"
   ]
  },
  {
   "cell_type": "code",
   "execution_count": 6,
   "metadata": {},
   "outputs": [],
   "source": [
    "# We get a triangular window with 60 samples.\n",
    "h = sg.get_window('triang', 60)\n",
    "# We convolve the signal with this window.\n",
    "fil = sg.convolve(nasdaq, h / h.sum())"
   ]
  },
  {
   "cell_type": "code",
   "execution_count": 7,
   "metadata": {},
   "outputs": [],
   "source": [
    "fig, ax = plt.subplots(1, 1, figsize=(6, 4))\n",
    "# We plot the original signal...\n",
    "nasdaq.plot(ax=ax, lw=3)\n",
    "# ... and the filtered signal.\n",
    "ax.plot_date(date, fil[:len(nasdaq)],\n",
    "             '-w', lw=2)"
   ]
  },
  {
   "cell_type": "code",
   "execution_count": 8,
   "metadata": {},
   "outputs": [],
   "source": [
    "fig, ax = plt.subplots(1, 1, figsize=(6, 4))\n",
    "nasdaq.plot(ax=ax, lw=3)\n",
    "# We create a 4-th order Butterworth low-pass filter.\n",
    "b, a = sg.butter(4, 2. / 365)\n",
    "# We apply this filter to the signal.\n",
    "ax.plot_date(date, sg.filtfilt(b, a, nasdaq),\n",
    "             '-w', lw=2)"
   ]
  },
  {
   "cell_type": "code",
   "execution_count": 9,
   "metadata": {},
   "outputs": [],
   "source": [
    "fig, ax = plt.subplots(1, 1, figsize=(6, 4))\n",
    "nasdaq.plot(ax=ax, lw=1)\n",
    "b, a = sg.butter(4, 2 * 5. / 365, btype='high')\n",
    "ax.plot_date(date, sg.filtfilt(b, a, nasdaq),\n",
    "             '-', lw=1)"
   ]
  }
 ],
 "metadata": {},
 "nbformat": 4,
 "nbformat_minor": 2
}
