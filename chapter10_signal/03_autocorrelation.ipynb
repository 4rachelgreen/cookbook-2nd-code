{
 "cells": [
  {
   "cell_type": "markdown",
   "metadata": {},
   "source": [
    "# Computing the autocorrelation of a time series"
   ]
  },
  {
   "cell_type": "code",
   "execution_count": 1,
   "metadata": {},
   "outputs": [],
   "source": [
    "import os\n",
    "import numpy as np\n",
    "import pandas as pd\n",
    "import matplotlib.pyplot as plt\n",
    "%matplotlib inline"
   ]
  },
  {
   "cell_type": "code",
   "execution_count": 2,
   "metadata": {},
   "outputs": [],
   "source": [
    "import io\n",
    "import requests\n",
    "import zipfile"
   ]
  },
  {
   "cell_type": "code",
   "execution_count": 3,
   "metadata": {},
   "outputs": [],
   "source": [
    "url = ('https://github.com/ipython-books/'\n",
    "       'cookbook-2nd-data/blob/master/'\n",
    "       'babies.zip?raw=true')\n",
    "r = io.BytesIO(requests.get(url).content)\n",
    "zipfile.ZipFile(r).extractall('babies')"
   ]
  },
  {
   "cell_type": "code",
   "execution_count": 4,
   "metadata": {},
   "outputs": [
    {
     "name": "stdout",
     "output_type": "stream",
     "text": [
      "yob1902.txt\n",
      "yob1903.txt\n",
      "yob1904.txt\n",
      "...\n",
      "yob2014.txt\n",
      "yob2015.txt\n",
      "yob2016.txt\n"
     ]
    }
   ],
   "source": [
    "%ls babies"
   ]
  },
  {
   "cell_type": "code",
   "execution_count": 5,
   "metadata": {},
   "outputs": [],
   "source": [
    "files = [file for file in os.listdir('babies')\n",
    "         if file.startswith('yob')]"
   ]
  },
  {
   "cell_type": "code",
   "execution_count": 6,
   "metadata": {},
   "outputs": [],
   "source": [
    "years = np.array(sorted([int(file[3:7])\n",
    "                         for file in files]))"
   ]
  },
  {
   "cell_type": "code",
   "execution_count": 7,
   "metadata": {},
   "outputs": [],
   "source": [
    "data = {year:\n",
    "        pd.read_csv('babies/yob%d.txt' % year,\n",
    "                    index_col=0, header=None,\n",
    "                    names=['First name',\n",
    "                           'Gender',\n",
    "                           'Number'])\n",
    "        for year in years}"
   ]
  },
  {
   "cell_type": "code",
   "execution_count": 8,
   "metadata": {},
   "outputs": [],
   "source": [
    "data[2016].head()"
   ]
  },
  {
   "cell_type": "code",
   "execution_count": 9,
   "metadata": {},
   "outputs": [],
   "source": [
    "def get_value(name, gender, year):\n",
    "    \"\"\"Return the number of babies born a given year,\n",
    "    with a given gender and a given name.\"\"\"\n",
    "    dy = data[year]\n",
    "    try:\n",
    "        return dy[dy['Gender'] == gender]['Number'][name]\n",
    "    except KeyError:\n",
    "        return 0"
   ]
  },
  {
   "cell_type": "code",
   "execution_count": 10,
   "metadata": {},
   "outputs": [],
   "source": [
    "def get_evolution(name, gender):\n",
    "    \"\"\"Return the evolution of a baby name over\n",
    "    the years.\"\"\"\n",
    "    return np.array([get_value(name, gender, year)\n",
    "                     for year in years])"
   ]
  },
  {
   "cell_type": "code",
   "execution_count": 11,
   "metadata": {},
   "outputs": [],
   "source": [
    "def autocorr(x):\n",
    "    result = np.correlate(x, x, mode='full')\n",
    "    return result[result.size // 2:]"
   ]
  },
  {
   "cell_type": "code",
   "execution_count": 12,
   "metadata": {},
   "outputs": [],
   "source": [
    "def autocorr_name(name, gender, color, axes=None):\n",
    "    x = get_evolution(name, gender)\n",
    "    z = autocorr(x)\n",
    "\n",
    "    # Evolution of the name.\n",
    "    axes[0].plot(years, x, '-o' + color,\n",
    "                 label=name)\n",
    "    axes[0].set_title(\"Baby names\")\n",
    "    axes[0].legend()\n",
    "\n",
    "    # Autocorrelation.\n",
    "    axes[1].plot(z / float(z.max()),\n",
    "                 '-' + color, label=name)\n",
    "    axes[1].legend()\n",
    "    axes[1].set_title(\"Autocorrelation\")"
   ]
  },
  {
   "cell_type": "code",
   "execution_count": 13,
   "metadata": {},
   "outputs": [],
   "source": [
    "fig, axes = plt.subplots(1, 2, figsize=(12, 4))\n",
    "autocorr_name('Olivia', 'F', 'k', axes=axes)\n",
    "autocorr_name('Maria', 'F', 'y', axes=axes)"
   ]
  }
 ],
 "metadata": {},
 "nbformat": 4,
 "nbformat_minor": 2
}
